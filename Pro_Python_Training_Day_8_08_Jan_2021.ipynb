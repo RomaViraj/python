{
  "nbformat": 4,
  "nbformat_minor": 0,
  "metadata": {
    "colab": {
      "name": "Pro Python Training Day 8_08-Jan-2021.ipynb",
      "provenance": [],
      "collapsed_sections": [],
      "include_colab_link": true
    },
    "kernelspec": {
      "name": "python3",
      "display_name": "Python 3"
    }
  },
  "cells": [
    {
      "cell_type": "markdown",
      "metadata": {
        "id": "view-in-github",
        "colab_type": "text"
      },
      "source": [
        "<a href=\"https://colab.research.google.com/github/RomaViraj/python/blob/master/Pro_Python_Training_Day_8_08_Jan_2021.ipynb\" target=\"_parent\"><img src=\"https://colab.research.google.com/assets/colab-badge.svg\" alt=\"Open In Colab\"/></a>"
      ]
    },
    {
      "cell_type": "markdown",
      "metadata": {
        "id": "k6BtWik3lWtN"
      },
      "source": [
        "**Data Visualization**"
      ]
    },
    {
      "cell_type": "markdown",
      "metadata": {
        "id": "ELTsgVSLD4V4"
      },
      "source": [
        "Data visualization is the technique to present the data in a pictorial or graphical format. \r\n",
        "\r\n",
        "It enables stakeholders and decision makers to analyze data visually. \r\n",
        "\r\n",
        "The data in a graphical format allows them to identify new trends and patterns easily.\r\n",
        "\r\n",
        "![matplotlib-data-visualization2.png](data:image/png;base64,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)\r\n",
        "\r\n",
        "The main benefits of data visualization are as follows:\r\n",
        "\r\n",
        "    It simplifies the complex quantitative information\r\n",
        "    It helps analyze and explore big data easily\r\n",
        "    It identifies the areas that need attention or improvement\r\n",
        "    It identifies the relationship between data points and variables\r\n",
        "    It explores new patterns and reveals hidden patterns in the data\r\n",
        "\r\n",
        "Three major considerations for Data Visualization:\r\n",
        "\r\n",
        "    Clarity\r\n",
        "    Accuracy\r\n",
        "    Efficiency\r\n"
      ]
    },
    {
      "cell_type": "markdown",
      "metadata": {
        "id": "5gdlefCyIUgT"
      },
      "source": [
        "\r\n",
        "\r\n",
        "# Matplotlib \r\n",
        "The matplotlib has emerged as the main data visualization library.\r\n",
        "\r\n",
        "It is a python two-dimensional plotting library for data visualization and creating interactive graphics or plots. Using pythons matplotlib, the data visualization of large and complex data becomes easy."
      ]
    },
    {
      "cell_type": "markdown",
      "metadata": {
        "id": "wNqrj54yIwcn"
      },
      "source": [
        "# Understanding the Plot\r\n",
        "\r\n",
        "Let's now try to understand a plot. A plot is a graphical representation of data, which shows the relationship between two variables or the distribution of data.\r\n",
        "\r\n",
        "We can create a plot using four simple steps.\r\n",
        "\r\n",
        "    Import the required libraries\r\n",
        "    Define or import the required data set\r\n",
        "    Set the plot parameters\r\n",
        "    Display the created plot\r\n"
      ]
    },
    {
      "cell_type": "markdown",
      "metadata": {
        "id": "X_u_7jqDjq57"
      },
      "source": [
        "**Example 1: To add title, X-axis label, Y-axis label :**\r\n",
        "\r\n",
        "pyplot is a plotting library used for 2D graphics in python programming language.\r\n",
        "\r\n"
      ]
    },
    {
      "cell_type": "code",
      "metadata": {
        "id": "x_Uzxx-Cj6No",
        "colab": {
          "base_uri": "https://localhost:8080/",
          "height": 350
        },
        "outputId": "4d102402-0461-4c7a-9667-d4dbad427efe"
      },
      "source": [
        "import matplotlib.pyplot as plt\n",
        "#The figure() function in pyplot module of matplotlib library is used to create a new figure.\n",
        "plt.figure(figsize=(10,5))\n",
        "\n",
        "\n",
        "\n",
        "# Setting axes/plot title\n",
        "plt.title('An Axes Title')\n",
        "\n",
        "\n",
        "# Setting X-axis and Y-axis labels\n",
        "plt.ylabel('Y-Axis Label')\n",
        "plt.xlabel('X-Axis Label')\n",
        "\n",
        "# Showing the plot\n",
        "plt.show()"
      ],
      "execution_count": null,
      "outputs": [
        {
          "output_type": "display_data",
          "data": {
            "image/png": "[encoded data removed]",
            "text/plain": [
              "<Figure size 720x360 with 1 Axes>"
            ]
          },
          "metadata": {
            "tags": [],
            "needs_background": "light"
          }
        }
      ]
    },
    {
      "cell_type": "markdown",
      "metadata": {
        "id": "mrE-Fef6kDyZ"
      },
      "source": [
        "**Example 2 : Create a figure with four subplots and shared axes**\r\n",
        "\r\n",
        "A **subplot** is used to display multiple plots in the same window. With a subplot, we can arrange plots in a regular grid. All we need to do is specify the number of rows, columns, and plot."
      ]
    },
    {
      "cell_type": "code",
      "metadata": {
        "id": "iRDGfoo4jz-s",
        "colab": {
          "base_uri": "https://localhost:8080/",
          "height": 303
        },
        "outputId": "28866732-94b6-4fef-b83e-07f230f58fcb"
      },
      "source": [
        "# Create a figure with four subplots and shared axes\n",
        "import matplotlib.pyplot as plt\n",
        "\n",
        "fig, axes = plt.subplots(nrows=2, ncols=2,figsize=(20,5))\n",
        "axes[0, 0].set(title='Upper Left')\n",
        "axes[0, 1].set(title='Upper Right')\n",
        "axes[1, 0].set(title='Lower Left')\n",
        "axes[1, 1].set(title='Lower Right')\n",
        "plt.show()"
      ],
      "execution_count": null,
      "outputs": [
        {
          "output_type": "display_data",
          "data": {
            "image/png": "[encoded data removed]",
            "text/plain": [
              "<Figure size 1440x360 with 4 Axes>"
            ]
          },
          "metadata": {
            "tags": [],
            "needs_background": "light"
          }
        }
      ]
    },
    {
      "cell_type": "markdown",
      "metadata": {
        "id": "hlYdfnAMxjxJ"
      },
      "source": [
        "\n",
        "\n",
        "---\n",
        "\n"
      ]
    },
    {
      "cell_type": "markdown",
      "metadata": {
        "id": "mYokTk-GEt1B"
      },
      "source": [
        "## Exploratory Data Analysis on Starbucks Menu Nutrition Data"
      ]
    },
    {
      "cell_type": "markdown",
      "metadata": {
        "id": "9rXKczJOE_dW"
      },
      "source": [
        "**Short Info about Starbucks**\n",
        "\n",
        " - Context\n",
        "  - Starbucks is an American coffee chain founded in Seattle. It serves both beverages and food.\n",
        " - Acknowledgements\n",
        "  - Food composition data is in the public domain, but product names marked with ® or ™ remain the registered trademarks of Starbucks.\n",
        " - Github link for repository: https://raw.githubusercontent.com/ShreyaChakraborty2202/Statistical-Data/main/starbucks_drinkMenu.csv\n"
      ]
    },
    {
      "cell_type": "markdown",
      "metadata": {
        "id": "iw98raFCLsZP"
      },
      "source": [
        "**Importing the libraries and reading the dataset**"
      ]
    },
    {
      "cell_type": "code",
      "metadata": {
        "id": "Z4O55UozFiTc"
      },
      "source": [
        "\n",
        "# importing libraries\n",
        "import pandas as pd #data processing\n",
        "import matplotlib.pyplot as plt #plotting tool\n",
        "import numpy as np #numeric calculations\n",
        "\n",
        "# Reading the raw csv file from github source\n",
        "df = pd.read_csv('https://raw.githubusercontent.com/ShreyaChakraborty2202/Statistical-Data/main/starbucks_drinkMenu.csv')"
      ],
      "execution_count": null,
      "outputs": []
    },
    {
      "cell_type": "code",
      "metadata": {
        "colab": {
          "base_uri": "https://localhost:8080/",
          "height": 338
        },
        "id": "AFIwl91Nv7g8",
        "outputId": "d33123d6-9aa7-443f-b069-276be26e5c56"
      },
      "source": [
        "df.head()"
      ],
      "execution_count": null,
      "outputs": [
        {
          "output_type": "execute_result",
          "data": {
            "text/html": [
              "<div>\n",
              "<style scoped>\n",
              "    .dataframe tbody tr th:only-of-type {\n",
              "        vertical-align: middle;\n",
              "    }\n",
              "\n",
              "    .dataframe tbody tr th {\n",
              "        vertical-align: top;\n",
              "    }\n",
              "\n",
              "    .dataframe thead th {\n",
              "        text-align: right;\n",
              "    }\n",
              "</style>\n",
              "<table border=\"1\" class=\"dataframe\">\n",
              "  <thead>\n",
              "    <tr style=\"text-align: right;\">\n",
              "      <th></th>\n",
              "      <th>Beverage_category</th>\n",
              "      <th>Beverage</th>\n",
              "      <th>Beverage_prep</th>\n",
              "      <th>Calories</th>\n",
              "      <th>Total Fat (g)</th>\n",
              "      <th>Trans Fat (g)</th>\n",
              "      <th>Saturated Fat (g)</th>\n",
              "      <th>Sodium (mg)</th>\n",
              "      <th>Total Carbohydrates (g)</th>\n",
              "      <th>Cholesterol (mg)</th>\n",
              "      <th>Dietary Fibre (g)</th>\n",
              "      <th>Sugars (g)</th>\n",
              "      <th>Protein (g)</th>\n",
              "      <th>Vitamin A (% DV)</th>\n",
              "      <th>Vitamin C (% DV)</th>\n",
              "      <th>Calcium (% DV)</th>\n",
              "      <th>Iron (% DV)</th>\n",
              "      <th>Caffeine (mg)</th>\n",
              "    </tr>\n",
              "  </thead>\n",
              "  <tbody>\n",
              "    <tr>\n",
              "      <th>0</th>\n",
              "      <td>Coffee</td>\n",
              "      <td>Brewed Coffee</td>\n",
              "      <td>Short</td>\n",
              "      <td>3</td>\n",
              "      <td>0.1</td>\n",
              "      <td>0.0</td>\n",
              "      <td>0.0</td>\n",
              "      <td>0</td>\n",
              "      <td>5</td>\n",
              "      <td>0</td>\n",
              "      <td>0</td>\n",
              "      <td>0</td>\n",
              "      <td>0.3</td>\n",
              "      <td>0%</td>\n",
              "      <td>0%</td>\n",
              "      <td>0%</td>\n",
              "      <td>0%</td>\n",
              "      <td>175</td>\n",
              "    </tr>\n",
              "    <tr>\n",
              "      <th>1</th>\n",
              "      <td>Coffee</td>\n",
              "      <td>Brewed Coffee</td>\n",
              "      <td>Tall</td>\n",
              "      <td>4</td>\n",
              "      <td>0.1</td>\n",
              "      <td>0.0</td>\n",
              "      <td>0.0</td>\n",
              "      <td>0</td>\n",
              "      <td>10</td>\n",
              "      <td>0</td>\n",
              "      <td>0</td>\n",
              "      <td>0</td>\n",
              "      <td>0.5</td>\n",
              "      <td>0%</td>\n",
              "      <td>0%</td>\n",
              "      <td>0%</td>\n",
              "      <td>0%</td>\n",
              "      <td>260</td>\n",
              "    </tr>\n",
              "    <tr>\n",
              "      <th>2</th>\n",
              "      <td>Coffee</td>\n",
              "      <td>Brewed Coffee</td>\n",
              "      <td>Grande</td>\n",
              "      <td>5</td>\n",
              "      <td>0.1</td>\n",
              "      <td>0.0</td>\n",
              "      <td>0.0</td>\n",
              "      <td>0</td>\n",
              "      <td>10</td>\n",
              "      <td>0</td>\n",
              "      <td>0</td>\n",
              "      <td>0</td>\n",
              "      <td>1.0</td>\n",
              "      <td>0%</td>\n",
              "      <td>0%</td>\n",
              "      <td>0%</td>\n",
              "      <td>0%</td>\n",
              "      <td>330</td>\n",
              "    </tr>\n",
              "    <tr>\n",
              "      <th>3</th>\n",
              "      <td>Coffee</td>\n",
              "      <td>Brewed Coffee</td>\n",
              "      <td>Venti</td>\n",
              "      <td>5</td>\n",
              "      <td>0.1</td>\n",
              "      <td>0.0</td>\n",
              "      <td>0.0</td>\n",
              "      <td>0</td>\n",
              "      <td>10</td>\n",
              "      <td>0</td>\n",
              "      <td>0</td>\n",
              "      <td>0</td>\n",
              "      <td>1.0</td>\n",
              "      <td>0%</td>\n",
              "      <td>0%</td>\n",
              "      <td>2%</td>\n",
              "      <td>0%</td>\n",
              "      <td>410</td>\n",
              "    </tr>\n",
              "    <tr>\n",
              "      <th>4</th>\n",
              "      <td>Classic Espresso Drinks</td>\n",
              "      <td>CaffÃ¨ Latte</td>\n",
              "      <td>Short Nonfat Milk</td>\n",
              "      <td>70</td>\n",
              "      <td>0.1</td>\n",
              "      <td>0.1</td>\n",
              "      <td>0.0</td>\n",
              "      <td>5</td>\n",
              "      <td>75</td>\n",
              "      <td>10</td>\n",
              "      <td>0</td>\n",
              "      <td>9</td>\n",
              "      <td>6.0</td>\n",
              "      <td>10%</td>\n",
              "      <td>0%</td>\n",
              "      <td>20%</td>\n",
              "      <td>0%</td>\n",
              "      <td>75</td>\n",
              "    </tr>\n",
              "  </tbody>\n",
              "</table>\n",
              "</div>"
            ],
            "text/plain": [
              "         Beverage_category       Beverage  ... Iron (% DV)   Caffeine (mg)\n",
              "0                   Coffee  Brewed Coffee  ...           0%            175\n",
              "1                   Coffee  Brewed Coffee  ...           0%            260\n",
              "2                   Coffee  Brewed Coffee  ...           0%            330\n",
              "3                   Coffee  Brewed Coffee  ...           0%            410\n",
              "4  Classic Espresso Drinks   CaffÃ¨ Latte  ...           0%             75\n",
              "\n",
              "[5 rows x 18 columns]"
            ]
          },
          "metadata": {
            "tags": []
          },
          "execution_count": 54
        }
      ]
    },
    {
      "cell_type": "markdown",
      "metadata": {
        "id": "HpMnydXZL11W"
      },
      "source": [
        "**Initial Data Exploration**"
      ]
    },
    {
      "cell_type": "code",
      "metadata": {
        "id": "v5MhSvkyL6U6",
        "colab": {
          "base_uri": "https://localhost:8080/"
        },
        "outputId": "275da20a-3cbe-49cc-9ea1-2cc3e893560f"
      },
      "source": [
        "# for checking the Columns and their data types\n",
        "df.info()"
      ],
      "execution_count": null,
      "outputs": [
        {
          "output_type": "stream",
          "text": [
            "<class 'pandas.core.frame.DataFrame'>\n",
            "RangeIndex: 242 entries, 0 to 241\n",
            "Data columns (total 18 columns):\n",
            " #   Column                     Non-Null Count  Dtype  \n",
            "---  ------                     --------------  -----  \n",
            " 0   Beverage_category          242 non-null    object \n",
            " 1   Beverage                   242 non-null    object \n",
            " 2   Beverage_prep              242 non-null    object \n",
            " 3   Calories                   242 non-null    int64  \n",
            " 4    Total Fat (g)             242 non-null    object \n",
            " 5   Trans Fat (g)              242 non-null    float64\n",
            " 6   Saturated Fat (g)          242 non-null    float64\n",
            " 7    Sodium (mg)               242 non-null    int64  \n",
            " 8    Total Carbohydrates (g)   242 non-null    int64  \n",
            " 9   Cholesterol (mg)           242 non-null    int64  \n",
            " 10   Dietary Fibre (g)         242 non-null    int64  \n",
            " 11   Sugars (g)                242 non-null    int64  \n",
            " 12   Protein (g)               242 non-null    float64\n",
            " 13  Vitamin A (% DV)           242 non-null    object \n",
            " 14  Vitamin C (% DV)           242 non-null    object \n",
            " 15   Calcium (% DV)            242 non-null    object \n",
            " 16  Iron (% DV)                242 non-null    object \n",
            " 17  Caffeine (mg)              242 non-null    int64  \n",
            "dtypes: float64(3), int64(7), object(8)\n",
            "memory usage: 34.2+ KB\n"
          ],
          "name": "stdout"
        }
      ]
    },
    {
      "cell_type": "code",
      "metadata": {
        "id": "qKMOFlCMMW0p",
        "colab": {
          "base_uri": "https://localhost:8080/"
        },
        "outputId": "80c99b3e-97e3-4d5f-d44a-34c5652bf18d"
      },
      "source": [
        "# Shape of the dataframe\n",
        "df.shape"
      ],
      "execution_count": null,
      "outputs": [
        {
          "output_type": "execute_result",
          "data": {
            "text/plain": [
              "(242, 18)"
            ]
          },
          "metadata": {
            "tags": []
          },
          "execution_count": 119
        }
      ]
    },
    {
      "cell_type": "markdown",
      "metadata": {
        "id": "tfvXzB-3MfzQ"
      },
      "source": [
        "**Observation:** \n",
        " - Row count: 242\n",
        " - Column count: 18"
      ]
    },
    {
      "cell_type": "code",
      "metadata": {
        "id": "Vo1Mwq_vMJDZ",
        "colab": {
          "base_uri": "https://localhost:8080/"
        },
        "outputId": "cbe738c8-f68b-4add-c864-e6d23912eed8"
      },
      "source": [
        "# Finding the column names\n",
        "df.columns"
      ],
      "execution_count": null,
      "outputs": [
        {
          "output_type": "execute_result",
          "data": {
            "text/plain": [
              "Index(['Beverage_category', 'Beverage', 'Beverage_prep', 'Calories',\n",
              "       'total_fat', 'trans_fat', 'saturated_fat', 'sodium', 'total_carbs',\n",
              "       'cholesterol', 'dietary_fibre', 'sugars', 'protein', 'vit_a', 'vit_c',\n",
              "       'calcium', 'iron', 'caffeine'],\n",
              "      dtype='object')"
            ]
          },
          "metadata": {
            "tags": []
          },
          "execution_count": 118
        }
      ]
    },
    {
      "cell_type": "markdown",
      "metadata": {
        "id": "HKQt4a3UV399"
      },
      "source": [
        "**Renaming columns**"
      ]
    },
    {
      "cell_type": "code",
      "metadata": {
        "id": "-7rhVjgmV8I_"
      },
      "source": [
        "df = df.rename(columns = {' Total Fat (g)': 'total_fat', 'Trans Fat (g) ': 'trans_fat', 'Saturated Fat (g)':'saturated_fat',\\\n",
        "                          ' Sodium (mg)': 'sodium', ' Total Carbohydrates (g) ': 'total_carbs', 'Cholesterol (mg)': 'cholesterol', \\\n",
        "                          ' Dietary Fibre (g)': 'dietary_fibre', ' Sugars (g)': 'sugars', ' Protein (g) ': 'protein', 'Vitamin A (% DV) ':'vit_a', \\\n",
        "                          'Vitamin C (% DV)': 'vit_c', ' Calcium (% DV) ': 'calcium', 'Iron (% DV) ': 'iron', 'Caffeine (mg)': 'caffeine'})"
      ],
      "execution_count": null,
      "outputs": []
    },
    {
      "cell_type": "code",
      "metadata": {
        "id": "UB705V8sVnwK",
        "colab": {
          "base_uri": "https://localhost:8080/",
          "height": 556
        },
        "outputId": "c3af45bb-7974-4e59-bfaf-cd63a09db0df"
      },
      "source": [
        "# Retrieving top rows\n",
        "df.head(10)"
      ],
      "execution_count": null,
      "outputs": [
        {
          "output_type": "execute_result",
          "data": {
            "text/html": [
              "<div>\n",
              "<style scoped>\n",
              "    .dataframe tbody tr th:only-of-type {\n",
              "        vertical-align: middle;\n",
              "    }\n",
              "\n",
              "    .dataframe tbody tr th {\n",
              "        vertical-align: top;\n",
              "    }\n",
              "\n",
              "    .dataframe thead th {\n",
              "        text-align: right;\n",
              "    }\n",
              "</style>\n",
              "<table border=\"1\" class=\"dataframe\">\n",
              "  <thead>\n",
              "    <tr style=\"text-align: right;\">\n",
              "      <th></th>\n",
              "      <th>Beverage_category</th>\n",
              "      <th>Beverage</th>\n",
              "      <th>Beverage_prep</th>\n",
              "      <th>Calories</th>\n",
              "      <th>total_fat</th>\n",
              "      <th>trans_fat</th>\n",
              "      <th>saturated_fat</th>\n",
              "      <th>sodium</th>\n",
              "      <th>total_carbs</th>\n",
              "      <th>cholesterol</th>\n",
              "      <th>dietary_fibre</th>\n",
              "      <th>sugars</th>\n",
              "      <th>protein</th>\n",
              "      <th>vit_a</th>\n",
              "      <th>vit_c</th>\n",
              "      <th>calcium</th>\n",
              "      <th>iron</th>\n",
              "      <th>caffeine</th>\n",
              "    </tr>\n",
              "  </thead>\n",
              "  <tbody>\n",
              "    <tr>\n",
              "      <th>0</th>\n",
              "      <td>Coffee</td>\n",
              "      <td>Brewed Coffee</td>\n",
              "      <td>Short</td>\n",
              "      <td>3</td>\n",
              "      <td>0.1</td>\n",
              "      <td>0.0</td>\n",
              "      <td>0.0</td>\n",
              "      <td>0</td>\n",
              "      <td>5</td>\n",
              "      <td>0</td>\n",
              "      <td>0</td>\n",
              "      <td>0</td>\n",
              "      <td>0.3</td>\n",
              "      <td>0%</td>\n",
              "      <td>0%</td>\n",
              "      <td>0%</td>\n",
              "      <td>0%</td>\n",
              "      <td>175</td>\n",
              "    </tr>\n",
              "    <tr>\n",
              "      <th>1</th>\n",
              "      <td>Coffee</td>\n",
              "      <td>Brewed Coffee</td>\n",
              "      <td>Tall</td>\n",
              "      <td>4</td>\n",
              "      <td>0.1</td>\n",
              "      <td>0.0</td>\n",
              "      <td>0.0</td>\n",
              "      <td>0</td>\n",
              "      <td>10</td>\n",
              "      <td>0</td>\n",
              "      <td>0</td>\n",
              "      <td>0</td>\n",
              "      <td>0.5</td>\n",
              "      <td>0%</td>\n",
              "      <td>0%</td>\n",
              "      <td>0%</td>\n",
              "      <td>0%</td>\n",
              "      <td>260</td>\n",
              "    </tr>\n",
              "    <tr>\n",
              "      <th>2</th>\n",
              "      <td>Coffee</td>\n",
              "      <td>Brewed Coffee</td>\n",
              "      <td>Grande</td>\n",
              "      <td>5</td>\n",
              "      <td>0.1</td>\n",
              "      <td>0.0</td>\n",
              "      <td>0.0</td>\n",
              "      <td>0</td>\n",
              "      <td>10</td>\n",
              "      <td>0</td>\n",
              "      <td>0</td>\n",
              "      <td>0</td>\n",
              "      <td>1.0</td>\n",
              "      <td>0%</td>\n",
              "      <td>0%</td>\n",
              "      <td>0%</td>\n",
              "      <td>0%</td>\n",
              "      <td>330</td>\n",
              "    </tr>\n",
              "    <tr>\n",
              "      <th>3</th>\n",
              "      <td>Coffee</td>\n",
              "      <td>Brewed Coffee</td>\n",
              "      <td>Venti</td>\n",
              "      <td>5</td>\n",
              "      <td>0.1</td>\n",
              "      <td>0.0</td>\n",
              "      <td>0.0</td>\n",
              "      <td>0</td>\n",
              "      <td>10</td>\n",
              "      <td>0</td>\n",
              "      <td>0</td>\n",
              "      <td>0</td>\n",
              "      <td>1.0</td>\n",
              "      <td>0%</td>\n",
              "      <td>0%</td>\n",
              "      <td>2%</td>\n",
              "      <td>0%</td>\n",
              "      <td>410</td>\n",
              "    </tr>\n",
              "    <tr>\n",
              "      <th>4</th>\n",
              "      <td>Classic Espresso Drinks</td>\n",
              "      <td>CaffÃ¨ Latte</td>\n",
              "      <td>Short Nonfat Milk</td>\n",
              "      <td>70</td>\n",
              "      <td>0.1</td>\n",
              "      <td>0.1</td>\n",
              "      <td>0.0</td>\n",
              "      <td>5</td>\n",
              "      <td>75</td>\n",
              "      <td>10</td>\n",
              "      <td>0</td>\n",
              "      <td>9</td>\n",
              "      <td>6.0</td>\n",
              "      <td>10%</td>\n",
              "      <td>0%</td>\n",
              "      <td>20%</td>\n",
              "      <td>0%</td>\n",
              "      <td>75</td>\n",
              "    </tr>\n",
              "    <tr>\n",
              "      <th>5</th>\n",
              "      <td>Classic Espresso Drinks</td>\n",
              "      <td>CaffÃ¨ Latte</td>\n",
              "      <td>2% Milk</td>\n",
              "      <td>100</td>\n",
              "      <td>3.5</td>\n",
              "      <td>2.0</td>\n",
              "      <td>0.1</td>\n",
              "      <td>15</td>\n",
              "      <td>85</td>\n",
              "      <td>10</td>\n",
              "      <td>0</td>\n",
              "      <td>9</td>\n",
              "      <td>6.0</td>\n",
              "      <td>10%</td>\n",
              "      <td>0%</td>\n",
              "      <td>20%</td>\n",
              "      <td>0%</td>\n",
              "      <td>75</td>\n",
              "    </tr>\n",
              "    <tr>\n",
              "      <th>6</th>\n",
              "      <td>Classic Espresso Drinks</td>\n",
              "      <td>CaffÃ¨ Latte</td>\n",
              "      <td>Soymilk</td>\n",
              "      <td>70</td>\n",
              "      <td>2.5</td>\n",
              "      <td>0.4</td>\n",
              "      <td>0.0</td>\n",
              "      <td>0</td>\n",
              "      <td>65</td>\n",
              "      <td>6</td>\n",
              "      <td>1</td>\n",
              "      <td>4</td>\n",
              "      <td>5.0</td>\n",
              "      <td>6%</td>\n",
              "      <td>0%</td>\n",
              "      <td>20%</td>\n",
              "      <td>8%</td>\n",
              "      <td>75</td>\n",
              "    </tr>\n",
              "    <tr>\n",
              "      <th>7</th>\n",
              "      <td>Classic Espresso Drinks</td>\n",
              "      <td>CaffÃ¨ Latte</td>\n",
              "      <td>Tall Nonfat Milk</td>\n",
              "      <td>100</td>\n",
              "      <td>0.2</td>\n",
              "      <td>0.2</td>\n",
              "      <td>0.0</td>\n",
              "      <td>5</td>\n",
              "      <td>120</td>\n",
              "      <td>15</td>\n",
              "      <td>0</td>\n",
              "      <td>14</td>\n",
              "      <td>10.0</td>\n",
              "      <td>15%</td>\n",
              "      <td>0%</td>\n",
              "      <td>30%</td>\n",
              "      <td>0%</td>\n",
              "      <td>75</td>\n",
              "    </tr>\n",
              "    <tr>\n",
              "      <th>8</th>\n",
              "      <td>Classic Espresso Drinks</td>\n",
              "      <td>CaffÃ¨ Latte</td>\n",
              "      <td>2% Milk</td>\n",
              "      <td>150</td>\n",
              "      <td>6</td>\n",
              "      <td>3.0</td>\n",
              "      <td>0.2</td>\n",
              "      <td>25</td>\n",
              "      <td>135</td>\n",
              "      <td>15</td>\n",
              "      <td>0</td>\n",
              "      <td>14</td>\n",
              "      <td>10.0</td>\n",
              "      <td>15%</td>\n",
              "      <td>0%</td>\n",
              "      <td>30%</td>\n",
              "      <td>0%</td>\n",
              "      <td>75</td>\n",
              "    </tr>\n",
              "    <tr>\n",
              "      <th>9</th>\n",
              "      <td>Classic Espresso Drinks</td>\n",
              "      <td>CaffÃ¨ Latte</td>\n",
              "      <td>Soymilk</td>\n",
              "      <td>110</td>\n",
              "      <td>4.5</td>\n",
              "      <td>0.5</td>\n",
              "      <td>0.0</td>\n",
              "      <td>0</td>\n",
              "      <td>105</td>\n",
              "      <td>10</td>\n",
              "      <td>1</td>\n",
              "      <td>6</td>\n",
              "      <td>8.0</td>\n",
              "      <td>10%</td>\n",
              "      <td>0%</td>\n",
              "      <td>30%</td>\n",
              "      <td>15%</td>\n",
              "      <td>75</td>\n",
              "    </tr>\n",
              "  </tbody>\n",
              "</table>\n",
              "</div>"
            ],
            "text/plain": [
              "         Beverage_category       Beverage  ... iron  caffeine\n",
              "0                   Coffee  Brewed Coffee  ...   0%       175\n",
              "1                   Coffee  Brewed Coffee  ...   0%       260\n",
              "2                   Coffee  Brewed Coffee  ...   0%       330\n",
              "3                   Coffee  Brewed Coffee  ...   0%       410\n",
              "4  Classic Espresso Drinks   CaffÃ¨ Latte  ...   0%        75\n",
              "5  Classic Espresso Drinks   CaffÃ¨ Latte  ...   0%        75\n",
              "6  Classic Espresso Drinks   CaffÃ¨ Latte  ...   8%        75\n",
              "7  Classic Espresso Drinks   CaffÃ¨ Latte  ...   0%        75\n",
              "8  Classic Espresso Drinks   CaffÃ¨ Latte  ...   0%        75\n",
              "9  Classic Espresso Drinks   CaffÃ¨ Latte  ...  15%        75\n",
              "\n",
              "[10 rows x 18 columns]"
            ]
          },
          "metadata": {
            "tags": []
          },
          "execution_count": 116
        }
      ]
    },
    {
      "cell_type": "code",
      "metadata": {
        "id": "U5DySjfhclr4",
        "colab": {
          "base_uri": "https://localhost:8080/",
          "height": 320
        },
        "outputId": "53c37fe2-4b4f-4885-bb57-e5ad8c56e8b8"
      },
      "source": [
        "df.describe()"
      ],
      "execution_count": null,
      "outputs": [
        {
          "output_type": "execute_result",
          "data": {
            "text/html": [
              "<div>\n",
              "<style scoped>\n",
              "    .dataframe tbody tr th:only-of-type {\n",
              "        vertical-align: middle;\n",
              "    }\n",
              "\n",
              "    .dataframe tbody tr th {\n",
              "        vertical-align: top;\n",
              "    }\n",
              "\n",
              "    .dataframe thead th {\n",
              "        text-align: right;\n",
              "    }\n",
              "</style>\n",
              "<table border=\"1\" class=\"dataframe\">\n",
              "  <thead>\n",
              "    <tr style=\"text-align: right;\">\n",
              "      <th></th>\n",
              "      <th>Calories</th>\n",
              "      <th>trans_fat</th>\n",
              "      <th>saturated_fat</th>\n",
              "      <th>sodium</th>\n",
              "      <th>total_carbs</th>\n",
              "      <th>cholesterol</th>\n",
              "      <th>dietary_fibre</th>\n",
              "      <th>sugars</th>\n",
              "      <th>protein</th>\n",
              "      <th>caffeine</th>\n",
              "    </tr>\n",
              "  </thead>\n",
              "  <tbody>\n",
              "    <tr>\n",
              "      <th>count</th>\n",
              "      <td>242.000000</td>\n",
              "      <td>242.000000</td>\n",
              "      <td>242.000000</td>\n",
              "      <td>242.000000</td>\n",
              "      <td>242.000000</td>\n",
              "      <td>242.000000</td>\n",
              "      <td>242.000000</td>\n",
              "      <td>242.000000</td>\n",
              "      <td>242.000000</td>\n",
              "      <td>242.000000</td>\n",
              "    </tr>\n",
              "    <tr>\n",
              "      <th>mean</th>\n",
              "      <td>193.871901</td>\n",
              "      <td>1.307025</td>\n",
              "      <td>0.037603</td>\n",
              "      <td>6.363636</td>\n",
              "      <td>128.884298</td>\n",
              "      <td>35.991736</td>\n",
              "      <td>0.805785</td>\n",
              "      <td>32.962810</td>\n",
              "      <td>6.978512</td>\n",
              "      <td>81.012397</td>\n",
              "    </tr>\n",
              "    <tr>\n",
              "      <th>std</th>\n",
              "      <td>102.863303</td>\n",
              "      <td>1.640259</td>\n",
              "      <td>0.071377</td>\n",
              "      <td>8.630257</td>\n",
              "      <td>82.303223</td>\n",
              "      <td>20.795186</td>\n",
              "      <td>1.445944</td>\n",
              "      <td>19.730199</td>\n",
              "      <td>4.871659</td>\n",
              "      <td>66.946655</td>\n",
              "    </tr>\n",
              "    <tr>\n",
              "      <th>min</th>\n",
              "      <td>0.000000</td>\n",
              "      <td>0.000000</td>\n",
              "      <td>0.000000</td>\n",
              "      <td>0.000000</td>\n",
              "      <td>0.000000</td>\n",
              "      <td>0.000000</td>\n",
              "      <td>0.000000</td>\n",
              "      <td>0.000000</td>\n",
              "      <td>0.000000</td>\n",
              "      <td>0.000000</td>\n",
              "    </tr>\n",
              "    <tr>\n",
              "      <th>25%</th>\n",
              "      <td>120.000000</td>\n",
              "      <td>0.100000</td>\n",
              "      <td>0.000000</td>\n",
              "      <td>0.000000</td>\n",
              "      <td>70.000000</td>\n",
              "      <td>21.000000</td>\n",
              "      <td>0.000000</td>\n",
              "      <td>18.000000</td>\n",
              "      <td>3.000000</td>\n",
              "      <td>11.250000</td>\n",
              "    </tr>\n",
              "    <tr>\n",
              "      <th>50%</th>\n",
              "      <td>185.000000</td>\n",
              "      <td>0.500000</td>\n",
              "      <td>0.000000</td>\n",
              "      <td>5.000000</td>\n",
              "      <td>125.000000</td>\n",
              "      <td>34.000000</td>\n",
              "      <td>0.000000</td>\n",
              "      <td>32.000000</td>\n",
              "      <td>6.000000</td>\n",
              "      <td>75.000000</td>\n",
              "    </tr>\n",
              "    <tr>\n",
              "      <th>75%</th>\n",
              "      <td>260.000000</td>\n",
              "      <td>2.000000</td>\n",
              "      <td>0.100000</td>\n",
              "      <td>10.000000</td>\n",
              "      <td>170.000000</td>\n",
              "      <td>50.750000</td>\n",
              "      <td>1.000000</td>\n",
              "      <td>43.750000</td>\n",
              "      <td>10.000000</td>\n",
              "      <td>130.000000</td>\n",
              "    </tr>\n",
              "    <tr>\n",
              "      <th>max</th>\n",
              "      <td>510.000000</td>\n",
              "      <td>9.000000</td>\n",
              "      <td>0.300000</td>\n",
              "      <td>40.000000</td>\n",
              "      <td>340.000000</td>\n",
              "      <td>90.000000</td>\n",
              "      <td>8.000000</td>\n",
              "      <td>84.000000</td>\n",
              "      <td>20.000000</td>\n",
              "      <td>410.000000</td>\n",
              "    </tr>\n",
              "  </tbody>\n",
              "</table>\n",
              "</div>"
            ],
            "text/plain": [
              "         Calories   trans_fat  ...     protein    caffeine\n",
              "count  242.000000  242.000000  ...  242.000000  242.000000\n",
              "mean   193.871901    1.307025  ...    6.978512   81.012397\n",
              "std    102.863303    1.640259  ...    4.871659   66.946655\n",
              "min      0.000000    0.000000  ...    0.000000    0.000000\n",
              "25%    120.000000    0.100000  ...    3.000000   11.250000\n",
              "50%    185.000000    0.500000  ...    6.000000   75.000000\n",
              "75%    260.000000    2.000000  ...   10.000000  130.000000\n",
              "max    510.000000    9.000000  ...   20.000000  410.000000\n",
              "\n",
              "[8 rows x 10 columns]"
            ]
          },
          "metadata": {
            "tags": []
          },
          "execution_count": 115
        }
      ]
    },
    {
      "cell_type": "code",
      "metadata": {
        "id": "lNWJfZylY1bW",
        "colab": {
          "base_uri": "https://localhost:8080/"
        },
        "outputId": "1ebe3151-3b47-4744-dd7d-ea97ec9cdd66"
      },
      "source": [
        "# Counting 1st column values\n",
        "df['Beverage_category'].value_counts()"
      ],
      "execution_count": null,
      "outputs": [
        {
          "output_type": "execute_result",
          "data": {
            "text/plain": [
              "Classic Espresso Drinks               58\n",
              "TazoÂ® Tea Drinks                     52\n",
              "Signature Espresso Drinks             40\n",
              "FrappuccinoÂ® Blended Coffee          36\n",
              "Shaken Iced Beverages                 18\n",
              "FrappuccinoÂ® Blended CrÃ¨me          13\n",
              "FrappuccinoÂ® Light Blended Coffee    12\n",
              "Smoothies                              9\n",
              "Coffee                                 4\n",
              "Name: Beverage_category, dtype: int64"
            ]
          },
          "metadata": {
            "tags": []
          },
          "execution_count": 61
        }
      ]
    },
    {
      "cell_type": "markdown",
      "metadata": {
        "id": "YO3Be1X1jMtH"
      },
      "source": [
        "**Scatterplots**"
      ]
    },
    {
      "cell_type": "code",
      "metadata": {
        "id": "Mg3U459gjQsj",
        "colab": {
          "base_uri": "https://localhost:8080/",
          "height": 135
        },
        "outputId": "405d3d73-8f34-4b80-d194-2ff6b2da2d22"
      },
      "source": [
        "x = df['Beverage_category']\n",
        "y = df['Calories']\n",
        " \n",
        "plt.figure(figsize=(20, 5))\n",
        "plt.style.use(\"dark_background\")\n",
        "# Set title\n",
        "plt.title('Calories Information for Beverages at Starbucks', weight='bold', size=16)\n",
        " \n",
        "# Plot a scatterplot\n",
        "plt.scatter(x, y)\n",
        " \n",
        "# Setting the axes label\n",
        "plt.xlabel('Beverage Category at Starbucks', weight='bold', size=12)\n",
        "plt.ylabel('Calories per drink', weight='bold', size=12)\n",
        "plt.xticks(rotation=90)\n",
        "# Showing the plot\n",
        "plt.show()"
      ],
      "execution_count": null,
      "outputs": [
        {
          "output_type": "display_data",
          "data": {
            "image/png": "[encoded data removed]",
            "text/plain": [
              "<Figure size 1440x360 with 1 Axes>"
            ]
          },
          "metadata": {
            "tags": []
          }
        }
      ]
    },
    {
      "cell_type": "markdown",
      "metadata": {
        "id": "D_IEhpJXwb4g"
      },
      "source": [
        "**Line Plot:**"
      ]
    },
    {
      "cell_type": "code",
      "metadata": {
        "colab": {
          "base_uri": "https://localhost:8080/",
          "height": 243
        },
        "id": "foU1qFFLwkhf",
        "outputId": "0ceef41e-befb-4d69-ff48-d4f4fe7c28fd"
      },
      "source": [
        "x = df['Beverage_category']\n",
        "y = df['caffeine']\n",
        " \n",
        "plt.figure(figsize=(10, 5))\n",
        " \n",
        "# Set title\n",
        "plt.title('Caffeine Information for Beverages at Starbucks', weight='bold', size=16)\n",
        "plt.style.use(\"dark_background\")\n",
        "# Plot a scatterplot\n",
        "plt.plot(x, y,marker=\"*\",color=\"red\",linestyle='--')\n",
        " \n",
        "# Setting the axes label\n",
        "plt.xlabel('Beverage Category at Starbucks', weight='bold', size=12)\n",
        "plt.ylabel('Caffeine per drink', weight='bold', size=12)\n",
        "plt.xticks(rotation=90)\n",
        "# Showing the plot\n",
        "plt.show()"
      ],
      "execution_count": null,
      "outputs": [
        {
          "output_type": "display_data",
          "data": {
            "image/png": "[encoded data removed]",
            "text/plain": [
              "<Figure size 720x360 with 1 Axes>"
            ]
          },
          "metadata": {
            "tags": []
          }
        }
      ]
    },
    {
      "cell_type": "markdown",
      "metadata": {
        "id": "G--mkFXOE3Tq"
      },
      "source": [
        "**Pie Chart :**"
      ]
    },
    {
      "cell_type": "code",
      "metadata": {
        "colab": {
          "base_uri": "https://localhost:8080/",
          "height": 218
        },
        "id": "F61FQFLODfpr",
        "outputId": "c3fe0937-29b6-4cba-86a4-505d1d998c9a"
      },
      "source": [
        "preparation = df['Beverage_prep'].value_counts()[:5]\r\n",
        "plt.figure(dpi=108)\r\n",
        "plt.title(\"Percentage of Data Collected in 2004 and 2005\")\r\n",
        "plt.pie(preparation, labels=preparation.index, autopct='%1.1f%%')\r\n",
        "plt.show()"
      ],
      "execution_count": null,
      "outputs": [
        {
          "output_type": "display_data",
          "data": {
            "image/png": "[encoded data removed]",
            "text/plain": [
              "<Figure size 648x432 with 1 Axes>"
            ]
          },
          "metadata": {
            "tags": []
          }
        }
      ]
    },
    {
      "cell_type": "markdown",
      "metadata": {
        "id": "fhPyas1BErM6"
      },
      "source": [
        "**When not to create a pie chart?**\r\n",
        "\r\n",
        "A pie chart has its limited use. It should be used to plot the proportion of a few categories. If there are more category proportions to be visualised then don't use the pie chart."
      ]
    },
    {
      "cell_type": "markdown",
      "metadata": {
        "id": "rqGLjc00BNbs"
      },
      "source": [
        "**BarPlot :**"
      ]
    },
    {
      "cell_type": "code",
      "metadata": {
        "colab": {
          "base_uri": "https://localhost:8080/"
        },
        "id": "jy6uL6l0ApOr",
        "outputId": "6fff37b6-82a7-488b-cfaf-f1b89a901784"
      },
      "source": [
        "vc=df['Beverage_prep'].value_counts()\r\n",
        "vc.values"
      ],
      "execution_count": null,
      "outputs": [
        {
          "output_type": "execute_result",
          "data": {
            "text/plain": [
              "array([66, 50, 26, 23, 22, 16, 12,  7,  7,  7,  4,  1,  1])"
            ]
          },
          "metadata": {
            "tags": []
          },
          "execution_count": 111
        }
      ]
    },
    {
      "cell_type": "code",
      "metadata": {
        "colab": {
          "base_uri": "https://localhost:8080/",
          "height": 103
        },
        "id": "hoy5PJ58AOA-",
        "outputId": "b51231e3-c27d-4438-ee9b-b53ae904b5e5"
      },
      "source": [
        "count  = df['Beverage_prep'].value_counts()\r\n",
        "plt.style.use(\"dark_background\")\r\n",
        "plt.figure(figsize=(15, 5))\r\n",
        "plt.barh(y=count.index, height=0.5, width=count.values,color='pink')\r\n",
        "plt.show()"
      ],
      "execution_count": null,
      "outputs": [
        {
          "output_type": "display_data",
          "data": {
            "image/png": "[encoded data removed]",
            "text/plain": [
              "<Figure size 1080x360 with 1 Axes>"
            ]
          },
          "metadata": {
            "tags": []
          }
        }
      ]
    },
    {
      "cell_type": "markdown",
      "metadata": {
        "id": "4sINX-DpKG-b"
      },
      "source": [
        "# TRY IT"
      ]
    },
    {
      "cell_type": "code",
      "metadata": {
        "id": "g3z8hZh3KFeD"
      },
      "source": [
        "Use the below CSV file (Company Sales Data) for this exercise.\r\n",
        "https://drive.google.com/file/d/1iQh2L-d2tdWlK12R_1ntxnRLRS9JvzX9/view?usp=sharing\r\n",
        "\r\n",
        "\r\n",
        "Exercise 1: Read Total profit of all months and show it using a line plot\r\n",
        "\r\n",
        "Total profit data provided for each month. Generated line plot must include the following properties: –\r\n",
        "\r\n",
        "    X label name = Month Number\r\n",
        "    Y label name = Total profit\r\n",
        "\r\n",
        "\r\n",
        "Exercise 2: Read toothpaste sales data of each month and show it using a scatter plot\r\n",
        "\r\n",
        "Exercise 3: Read face cream and facewash product sales data and show it using the bar chart\r\n",
        "\r\n",
        "Exercise 4: Read the total profit of each month and show it using the histogram to see most common profit ranges"
      ],
      "execution_count": null,
      "outputs": []
    }
  ]
}