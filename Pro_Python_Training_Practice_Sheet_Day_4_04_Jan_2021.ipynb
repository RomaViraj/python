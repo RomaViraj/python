{
  "nbformat": 4,
  "nbformat_minor": 0,
  "metadata": {
    "colab": {
      "name": "Pro Python Training Practice Sheet_Day 4_04-Jan-2021.ipynb",
      "provenance": [],
      "collapsed_sections": [],
      "include_colab_link": true
    },
    "kernelspec": {
      "name": "python3",
      "display_name": "Python 3"
    }
  },
  "cells": [
    {
      "cell_type": "markdown",
      "metadata": {
        "id": "view-in-github",
        "colab_type": "text"
      },
      "source": [
        "<a href=\"https://colab.research.google.com/github/RomaViraj/trex/blob/master/Pro_Python_Training_Practice_Sheet_Day_4_04_Jan_2021.ipynb\" target=\"_parent\"><img src=\"https://colab.research.google.com/assets/colab-badge.svg\" alt=\"Open In Colab\"/></a>"
      ]
    },
    {
      "cell_type": "markdown",
      "metadata": {
        "id": "UN5Tt-ULSlrv"
      },
      "source": [
        "**Python Numbers**\r\n",
        "\r\n",
        "Integers, floating point numbers and complex numbers fall under Python numbers category. They are defined as int, float and complex classes in Python.\r\n",
        "\r\n",
        "We can use the type() function to know which class a variable or a value belongs to. Similarly, the isinstance() function is used to check if an object belongs to a particular class."
      ]
    },
    {
      "cell_type": "code",
      "metadata": {
        "colab": {
          "base_uri": "https://localhost:8080/"
        },
        "id": "i-8WIggrR_5f",
        "outputId": "da5440ee-8e90-4a37-815f-9cc0620fe447"
      },
      "source": [
        "a = 5\r\n",
        "print(a, \"is of type\", type(a))\r\n",
        "\r\n",
        "a = 2.0\r\n",
        "print(a, \"is of type\", type(a))\r\n",
        "\r\n",
        "a = 1+2j\r\n",
        "print(a, \"is complex number?\", isinstance(1+2j,complex))"
      ],
      "execution_count": null,
      "outputs": [
        {
          "output_type": "stream",
          "text": [
            "5 is of type <class 'int'>\n",
            "2.0 is of type <class 'float'>\n",
            "(1+2j) is complex number? True\n"
          ],
          "name": "stdout"
        }
      ]
    },
    {
      "cell_type": "markdown",
      "metadata": {
        "id": "xXgo152WSj99"
      },
      "source": [
        "**Python List**\r\n",
        "\r\n",
        "List is an ordered sequence of items. It is one of the most used datatype in Python and is very flexible. All the items in a list do not need to be of the same type.\r\n",
        "\r\n",
        "Declaring a list is pretty straight forward. Items separated by commas are enclosed within brackets [ ]."
      ]
    },
    {
      "cell_type": "code",
      "metadata": {
        "colab": {
          "base_uri": "https://localhost:8080/"
        },
        "id": "L72kjkXKSYAP",
        "outputId": "6cc6d532-ed4b-491a-f787-ea93d8f260d0"
      },
      "source": [
        "a = [5,10,15,20,25,30,35,40]\r\n",
        "\r\n",
        "# a[2] = 15\r\n",
        "print(\"a[2] = \", a[2])\r\n",
        "\r\n",
        "# a[0:3] = [5, 10, 15]\r\n",
        "print(\"a[0:3] = \", a[0:3])\r\n",
        "\r\n",
        "# a[5:] = [30, 35, 40]\r\n",
        "print(\"a[5:] = \", a[5:])"
      ],
      "execution_count": null,
      "outputs": [
        {
          "output_type": "stream",
          "text": [
            "a[2] =  15\n",
            "a[0:3] =  [5, 10, 15]\n",
            "a[5:] =  [30, 35, 40]\n"
          ],
          "name": "stdout"
        }
      ]
    },
    {
      "cell_type": "code",
      "metadata": {
        "colab": {
          "base_uri": "https://localhost:8080/"
        },
        "id": "CMZbjsPgUyWA",
        "outputId": "b00786b5-221c-418c-83bb-1f66b7e5b286"
      },
      "source": [
        "# Python program to demonstrate accessing of element from list \r\n",
        "\t\r\n",
        "# Creating a List with the use of multiple values \r\n",
        "List = [\"Happy\", \"New\", \"Year\"] \r\n",
        "\t\r\n",
        "# accessing a element from the list using index number \r\n",
        "print(\"Accessing element from the list\") \r\n",
        "print(List[0]) \r\n",
        "print(List[2]) \r\n",
        "\r\n",
        "# accessing a element using negative indexing \r\n",
        "print(\"Accessing element using negative indexing\") \r\n",
        "\t\r\n",
        "# print the last element of list \r\n",
        "print(List[-1]) \r\n",
        "\t\r\n",
        "# print the third last element of list \r\n",
        "print(List[-3]) \r\n"
      ],
      "execution_count": null,
      "outputs": [
        {
          "output_type": "stream",
          "text": [
            "Accessing element from the list\n",
            "Happy\n",
            "Year\n",
            "Accessing element using negative indexing\n",
            "Year\n",
            "Happy\n"
          ],
          "name": "stdout"
        }
      ]
    },
    {
      "cell_type": "markdown",
      "metadata": {
        "id": "dyWQySNpS3Ym"
      },
      "source": [
        "**Python Tuple**\r\n",
        "\r\n",
        "Tuple is an ordered sequence of items same as a list. The only difference is that tuples are immutable. Tuples once created cannot be modified.\r\n",
        "\r\n",
        "Tuples are used to write-protect data and are usually faster than lists as they cannot change dynamically.\r\n",
        "\r\n",
        "It is defined within parentheses () where items are separated by commas."
      ]
    },
    {
      "cell_type": "code",
      "metadata": {
        "id": "7EoHVRt7S5ss"
      },
      "source": [
        "t = (5,'program', 1+3j)\r\n",
        "\r\n",
        "# t[1] = 'program'\r\n",
        "print(\"t[1] = \", t[1])\r\n",
        "\r\n",
        "# t[0:3] = (5, 'program', (1+3j))\r\n",
        "print(\"t[0:3] = \", t[0:3])\r\n",
        "\r\n",
        "# Generates error\r\n",
        "# Tuples are immutable\r\n",
        "t[0] = 10"
      ],
      "execution_count": null,
      "outputs": []
    },
    {
      "cell_type": "code",
      "metadata": {
        "colab": {
          "base_uri": "https://localhost:8080/"
        },
        "id": "68e5kGEqVJwv",
        "outputId": "c6e62eef-3f97-4cb5-cdab-16b32ca49640"
      },
      "source": [
        "# Python program to demonstrate accessing tuple \r\n",
        "\r\n",
        "tuple1 = tuple([1, 2, 3, 4, 5]) \r\n",
        "\r\n",
        "# Accessing element using indexing \r\n",
        "print(\"First element of tuple\") \r\n",
        "print(tuple1[0]) \r\n",
        "\r\n",
        "# Accessing element from last negative indexing \r\n",
        "print(\"\\nLast element of tuple\") \r\n",
        "print(tuple1[-1]) \r\n",
        "\r\n",
        "print(\"\\nThird last element of tuple\") \r\n",
        "print(tuple1[-3]) \r\n"
      ],
      "execution_count": null,
      "outputs": [
        {
          "output_type": "stream",
          "text": [
            "First element of tuple\n",
            "1\n",
            "\n",
            "Last element of tuple\n",
            "5\n",
            "\n",
            "Third last element of tuple\n",
            "3\n"
          ],
          "name": "stdout"
        }
      ]
    },
    {
      "cell_type": "markdown",
      "metadata": {
        "id": "YhpHGSTuTHaf"
      },
      "source": [
        "**Python Strings**\r\n",
        "\r\n",
        "String is sequence of Unicode characters. We can use single quotes or double quotes to represent strings. Multi-line strings can be denoted using triple quotes, ''' or \"\"\"."
      ]
    },
    {
      "cell_type": "code",
      "metadata": {
        "id": "HoawskMkTJSv"
      },
      "source": [
        "s = 'Hello world!'\r\n",
        "\r\n",
        "# s[4] = 'o'\r\n",
        "print(\"s[4] = \", s[4])\r\n",
        "\r\n",
        "# s[6:11] = 'world'\r\n",
        "print(\"s[6:11] = \", s[6:11])\r\n",
        "\r\n",
        "# Generates error\r\n",
        "# Strings are immutable in Python\r\n",
        "s[5] ='d'"
      ],
      "execution_count": null,
      "outputs": []
    },
    {
      "cell_type": "code",
      "metadata": {
        "colab": {
          "base_uri": "https://localhost:8080/"
        },
        "id": "46y9levfUD_f",
        "outputId": "3c4ef35f-a755-40ae-e954-525a74979775"
      },
      "source": [
        "# Python Program for creation of String \r\n",
        "\t\r\n",
        "# Creating a String \r\n",
        "# with single Quotes \r\n",
        "String1 = 'Welcome to Whitehat Junior'\r\n",
        "print(\"String with the use of Single Quotes: \") \r\n",
        "print(String1) \r\n",
        "\t\r\n",
        "# Creating a String \r\n",
        "# with double Quotes \r\n",
        "String1 = \"Hello teachers\"\r\n",
        "print(\"\\nString with the use of Double Quotes: \") \r\n",
        "print(String1) \r\n",
        "print(type(String1)) \r\n",
        "\t\r\n",
        "# Creating a String \r\n",
        "# with triple Quotes \r\n",
        "String1 = '''Happy New Year'''\r\n",
        "print(\"\\nString with the use of Triple Quotes: \") \r\n",
        "print(String1) \r\n",
        "print(type(String1)) \r\n",
        "\r\n",
        "# Creating String with triple \r\n",
        "# Quotes allows multiple lines \r\n",
        "String1 = '''Learn \r\n",
        "\t\t\tPython \r\n",
        "\t\t\tProgramming'''\r\n",
        "print(\"\\nCreating a multiline String: \") \r\n",
        "print(String1) \r\n"
      ],
      "execution_count": null,
      "outputs": [
        {
          "output_type": "stream",
          "text": [
            "String with the use of Single Quotes: \n",
            "Welcome to Whitehat Junior\n",
            "\n",
            "String with the use of Double Quotes: \n",
            "Hello teachers\n",
            "<class 'str'>\n",
            "\n",
            "String with the use of Triple Quotes: \n",
            "Happy New Year\n",
            "<class 'str'>\n",
            "\n",
            "Creating a multiline String: \n",
            "Learn \n",
            "\t\t\tPython \n",
            "\t\t\tProgramming\n"
          ],
          "name": "stdout"
        }
      ]
    },
    {
      "cell_type": "markdown",
      "metadata": {
        "id": "7R4c2BE2TPgH"
      },
      "source": [
        "**Python Set**\r\n",
        "\r\n",
        "Set is an unordered collection of unique items. Set is defined by values separated by comma inside braces { }. Items in a set are not ordered."
      ]
    },
    {
      "cell_type": "code",
      "metadata": {
        "id": "_Sp3sBTjTRZ3"
      },
      "source": [
        "a = {5,2,3,1,4}\r\n",
        "\r\n",
        "# printing set variable\r\n",
        "print(\"a = \", a)\r\n",
        "\r\n",
        "# data type of variable a\r\n",
        "print(type(a))"
      ],
      "execution_count": null,
      "outputs": []
    },
    {
      "cell_type": "code",
      "metadata": {
        "colab": {
          "base_uri": "https://localhost:8080/"
        },
        "id": "pRWN3I6IVXwn",
        "outputId": "ccc1349d-aac3-4d6c-e92f-c1b6d115dccb"
      },
      "source": [
        "# Python program to demonstrate \r\n",
        "# Accessing of elements in a set \r\n",
        "\t\r\n",
        "# Creating a set \r\n",
        "set1 = set([\"Hello\", \"Pro\", \"Teachers\"]) \r\n",
        "print(\"\\nInitial set\") \r\n",
        "print(set1) \r\n",
        "\t\r\n",
        "# Accessing element using for loop \r\n",
        "print(\"\\nElements of set: \") \r\n",
        "for i in set1: \r\n",
        "\tprint(i, end =\" \") \r\n",
        "\tprint(\"\\n\") \r\n",
        "# Checking the element using in keyword \r\n",
        "print(\"Pro\" in set1) \r\n"
      ],
      "execution_count": null,
      "outputs": [
        {
          "output_type": "stream",
          "text": [
            "\n",
            "Initial set\n",
            "{'Teachers', 'Pro', 'Hello'}\n",
            "\n",
            "Elements of set: \n",
            "Teachers \n",
            "\n",
            "Pro \n",
            "\n",
            "Hello \n",
            "\n",
            "True\n"
          ],
          "name": "stdout"
        }
      ]
    },
    {
      "cell_type": "markdown",
      "metadata": {
        "id": "OpGb2HsMTZBv"
      },
      "source": [
        "**Python Dictionary**\r\n",
        "\r\n",
        "Dictionary is an unordered collection of key-value pairs.\r\n",
        "\r\n",
        "It is generally used when we have a huge amount of data. Dictionaries are optimized for retrieving data. We must know the key to retrieve the value.\r\n",
        "\r\n",
        "In Python, dictionaries are defined within braces {} with each item being a pair in the form key:value. Key and value can be of any type."
      ]
    },
    {
      "cell_type": "code",
      "metadata": {
        "colab": {
          "base_uri": "https://localhost:8080/"
        },
        "id": "jiOmXovUTbVm",
        "outputId": "aaeb2643-b864-48d0-ed18-2effe68d29c3"
      },
      "source": [
        "d = {1:'value','key':2}\r\n",
        "print(type(d))\r\n",
        "\r\n",
        "print(\"d[1] = \", d[1]);\r\n",
        "\r\n",
        "print(\"d['key'] = \", d['key']);\r\n",
        "\r\n",
        "# Generates error\r\n",
        "#print(\"d[2] = \", d[2]);"
      ],
      "execution_count": null,
      "outputs": [
        {
          "output_type": "stream",
          "text": [
            "<class 'dict'>\n",
            "d[1] =  value\n",
            "d['key'] =  2\n"
          ],
          "name": "stdout"
        }
      ]
    },
    {
      "cell_type": "code",
      "metadata": {
        "colab": {
          "base_uri": "https://localhost:8080/"
        },
        "id": "WWkV7-lYWApg",
        "outputId": "7d269232-0cd9-4c2f-eff6-9a5575ba25b3"
      },
      "source": [
        "# Python program to demonstrate accessing a element from a Dictionary \r\n",
        "\t\r\n",
        "# Creating a Dictionary \r\n",
        "Dict = {1: 'Mumbai', 'name': 'Delhi', 3: 'Goa'} \r\n",
        "\t\r\n",
        "# accessing a element using key \r\n",
        "print(\"Accessing a element using key:\") \r\n",
        "print(Dict['name']) \r\n",
        "\r\n",
        "# accessing a element using get() method \r\n",
        "print(\"Accessing a element using get:\") \r\n",
        "print(Dict.get(3)) \r\n"
      ],
      "execution_count": null,
      "outputs": [
        {
          "output_type": "stream",
          "text": [
            "Accessing a element using key:\n",
            "Delhi\n",
            "Accessing a element using get:\n",
            "Goa\n"
          ],
          "name": "stdout"
        }
      ]
    },
    {
      "cell_type": "markdown",
      "metadata": {
        "id": "w1oksb1FWz6C"
      },
      "source": [
        "**Please try the following Programs**\r\n",
        "\r\n",
        "1. Python Program to find the union of two lists. (Hint: Use append() function)\r\n",
        "2. Python program to reverse the list [100, 200, 300, 400, 500] in the following order [500, 400, 300, 200, 100]\r\n",
        "3. Python program to convert items of a list into its square. Example [1, 2, 3, 4, 5] will become [1, 4, 9, 16, 25]\r\n",
        "4. Python program to reverse the following tuple t = (10, 20, 30, 40, 50)"
      ]
    }
  ]
}