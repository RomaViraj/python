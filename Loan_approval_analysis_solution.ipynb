{
  "nbformat": 4,
  "nbformat_minor": 0,
  "metadata": {
    "kernelspec": {
      "display_name": "Python 3",
      "language": "python",
      "name": "python3"
    },
    "language_info": {
      "codemirror_mode": {
        "name": "ipython",
        "version": 3
      },
      "file_extension": ".py",
      "mimetype": "text/x-python",
      "name": "python",
      "nbconvert_exporter": "python",
      "pygments_lexer": "ipython3",
      "version": "3.8.3"
    },
    "colab": {
      "name": "Loan_approval_analysis-solution.ipynb",
      "provenance": [],
      "collapsed_sections": [],
      "include_colab_link": true
    }
  },
  "cells": [
    {
      "cell_type": "markdown",
      "metadata": {
        "id": "view-in-github",
        "colab_type": "text"
      },
      "source": [
        "<a href=\"https://colab.research.google.com/github/RomaViraj/python/blob/master/Loan_approval_analysis_solution.ipynb\" target=\"_parent\"><img src=\"https://colab.research.google.com/assets/colab-badge.svg\" alt=\"Open In Colab\"/></a>"
      ]
    },
    {
      "cell_type": "markdown",
      "metadata": {
        "id": "Pbwvz88btdXn"
      },
      "source": [
        "## Problem Statement\n",
        "\n",
        "Dream Housing Finance Inc. specializes in home loans across different market segments - rural, urban and semi-urban.  Thier loan eligibility process is based on customer details provided while filling an online application form. To create a targeted marketing campaign for different segments, they have asked for a comprehensive analysis of the data collected so far.\n",
        "\n",
        "## About the Dataset\n",
        "The dataset has details of 614 customers with the following 13 features\n",
        "\n",
        "|Feature|Description|\n",
        "|-----|-----|\n",
        "|Loan_ID|Unique Loan ID|\n",
        "|Gender|Male/Female|\n",
        "|Married|Applicant Married (Y/N)|\n",
        "|Dependents|Number of dependents|\n",
        "|Education|Graduate/Under Graduate|\n",
        "|Self_Employed|Self employed (Y/N)|\n",
        "|ApplicantIncome|Income of the applicant|\n",
        "|CoapplicantIncome|Income of the co-applicant|\n",
        "|LoanAmount|Loan amount in thousands|\n",
        "|Loan_Amount_Term|Term of loan in months|\n",
        "|Credit_History|credit history meets guidelines}|\n",
        "|Property_Area| Urban/Semi-Urban/Rural|\n",
        "|Loan_Status|Loan approved (Y/N)|\n",
        "\n",
        "\n",
        "\n",
        "Our major work for this project involves data analysis using Pandas. \n",
        "\n",
        "## Why solve this project ?\n",
        "\n",
        "After completing this project, you will have better grip on working with pandas. In this project you will apply following concepts.\n",
        "\n",
        " \n",
        "- Dataframe slicing \n",
        "- Dataframe aggregation \n",
        "- Pivot table operations"
      ]
    },
    {
      "cell_type": "code",
      "metadata": {
        "id": "1sfb3hfPtdXs",
        "colab": {
          "base_uri": "https://localhost:8080/",
          "height": 448
        },
        "outputId": "270f0d69-7aab-4ba5-f66a-1c2b602b7c92"
      },
      "source": [
        "# Import packages\n",
        "import numpy as np\n",
        "import pandas as pd\n",
        "from scipy.stats import mode \n",
        "bank=pd.read_csv(\"https://raw.githubusercontent.com/rkkirpane/ADV-PRO-APT-Capstone-Project/main/data.csv\")\n",
        "bank"
      ],
      "execution_count": null,
      "outputs": [
        {
          "output_type": "execute_result",
          "data": {
            "text/html": [
              "<div>\n",
              "<style scoped>\n",
              "    .dataframe tbody tr th:only-of-type {\n",
              "        vertical-align: middle;\n",
              "    }\n",
              "\n",
              "    .dataframe tbody tr th {\n",
              "        vertical-align: top;\n",
              "    }\n",
              "\n",
              "    .dataframe thead th {\n",
              "        text-align: right;\n",
              "    }\n",
              "</style>\n",
              "<table border=\"1\" class=\"dataframe\">\n",
              "  <thead>\n",
              "    <tr style=\"text-align: right;\">\n",
              "      <th></th>\n",
              "      <th>Loan_ID</th>\n",
              "      <th>Gender</th>\n",
              "      <th>Married</th>\n",
              "      <th>Dependents</th>\n",
              "      <th>Education</th>\n",
              "      <th>Self_Employed</th>\n",
              "      <th>ApplicantIncome</th>\n",
              "      <th>CoapplicantIncome</th>\n",
              "      <th>LoanAmount</th>\n",
              "      <th>Loan_Amount_Term</th>\n",
              "      <th>Credit_History</th>\n",
              "      <th>Property_Area</th>\n",
              "      <th>Loan_Status</th>\n",
              "    </tr>\n",
              "  </thead>\n",
              "  <tbody>\n",
              "    <tr>\n",
              "      <th>0</th>\n",
              "      <td>LP001002</td>\n",
              "      <td>Male</td>\n",
              "      <td>No</td>\n",
              "      <td>0</td>\n",
              "      <td>Graduate</td>\n",
              "      <td>No</td>\n",
              "      <td>5849</td>\n",
              "      <td>0.0</td>\n",
              "      <td>NaN</td>\n",
              "      <td>360.0</td>\n",
              "      <td>1.0</td>\n",
              "      <td>Urban</td>\n",
              "      <td>Y</td>\n",
              "    </tr>\n",
              "    <tr>\n",
              "      <th>1</th>\n",
              "      <td>LP001003</td>\n",
              "      <td>Male</td>\n",
              "      <td>Yes</td>\n",
              "      <td>1</td>\n",
              "      <td>Graduate</td>\n",
              "      <td>No</td>\n",
              "      <td>4583</td>\n",
              "      <td>1508.0</td>\n",
              "      <td>128.0</td>\n",
              "      <td>360.0</td>\n",
              "      <td>1.0</td>\n",
              "      <td>Rural</td>\n",
              "      <td>N</td>\n",
              "    </tr>\n",
              "    <tr>\n",
              "      <th>2</th>\n",
              "      <td>LP001005</td>\n",
              "      <td>Male</td>\n",
              "      <td>Yes</td>\n",
              "      <td>0</td>\n",
              "      <td>Graduate</td>\n",
              "      <td>Yes</td>\n",
              "      <td>3000</td>\n",
              "      <td>0.0</td>\n",
              "      <td>66.0</td>\n",
              "      <td>360.0</td>\n",
              "      <td>1.0</td>\n",
              "      <td>Urban</td>\n",
              "      <td>Y</td>\n",
              "    </tr>\n",
              "    <tr>\n",
              "      <th>3</th>\n",
              "      <td>LP001006</td>\n",
              "      <td>Male</td>\n",
              "      <td>Yes</td>\n",
              "      <td>0</td>\n",
              "      <td>Not Graduate</td>\n",
              "      <td>No</td>\n",
              "      <td>2583</td>\n",
              "      <td>2358.0</td>\n",
              "      <td>120.0</td>\n",
              "      <td>360.0</td>\n",
              "      <td>1.0</td>\n",
              "      <td>Urban</td>\n",
              "      <td>Y</td>\n",
              "    </tr>\n",
              "    <tr>\n",
              "      <th>4</th>\n",
              "      <td>LP001008</td>\n",
              "      <td>Male</td>\n",
              "      <td>No</td>\n",
              "      <td>0</td>\n",
              "      <td>Graduate</td>\n",
              "      <td>No</td>\n",
              "      <td>6000</td>\n",
              "      <td>0.0</td>\n",
              "      <td>141.0</td>\n",
              "      <td>360.0</td>\n",
              "      <td>1.0</td>\n",
              "      <td>Urban</td>\n",
              "      <td>Y</td>\n",
              "    </tr>\n",
              "    <tr>\n",
              "      <th>...</th>\n",
              "      <td>...</td>\n",
              "      <td>...</td>\n",
              "      <td>...</td>\n",
              "      <td>...</td>\n",
              "      <td>...</td>\n",
              "      <td>...</td>\n",
              "      <td>...</td>\n",
              "      <td>...</td>\n",
              "      <td>...</td>\n",
              "      <td>...</td>\n",
              "      <td>...</td>\n",
              "      <td>...</td>\n",
              "      <td>...</td>\n",
              "    </tr>\n",
              "    <tr>\n",
              "      <th>609</th>\n",
              "      <td>LP002978</td>\n",
              "      <td>Female</td>\n",
              "      <td>No</td>\n",
              "      <td>0</td>\n",
              "      <td>Graduate</td>\n",
              "      <td>No</td>\n",
              "      <td>2900</td>\n",
              "      <td>0.0</td>\n",
              "      <td>71.0</td>\n",
              "      <td>360.0</td>\n",
              "      <td>1.0</td>\n",
              "      <td>Rural</td>\n",
              "      <td>Y</td>\n",
              "    </tr>\n",
              "    <tr>\n",
              "      <th>610</th>\n",
              "      <td>LP002979</td>\n",
              "      <td>Male</td>\n",
              "      <td>Yes</td>\n",
              "      <td>3+</td>\n",
              "      <td>Graduate</td>\n",
              "      <td>No</td>\n",
              "      <td>4106</td>\n",
              "      <td>0.0</td>\n",
              "      <td>40.0</td>\n",
              "      <td>180.0</td>\n",
              "      <td>1.0</td>\n",
              "      <td>Rural</td>\n",
              "      <td>Y</td>\n",
              "    </tr>\n",
              "    <tr>\n",
              "      <th>611</th>\n",
              "      <td>LP002983</td>\n",
              "      <td>Male</td>\n",
              "      <td>Yes</td>\n",
              "      <td>1</td>\n",
              "      <td>Graduate</td>\n",
              "      <td>No</td>\n",
              "      <td>8072</td>\n",
              "      <td>240.0</td>\n",
              "      <td>253.0</td>\n",
              "      <td>360.0</td>\n",
              "      <td>1.0</td>\n",
              "      <td>Urban</td>\n",
              "      <td>Y</td>\n",
              "    </tr>\n",
              "    <tr>\n",
              "      <th>612</th>\n",
              "      <td>LP002984</td>\n",
              "      <td>Male</td>\n",
              "      <td>Yes</td>\n",
              "      <td>2</td>\n",
              "      <td>Graduate</td>\n",
              "      <td>No</td>\n",
              "      <td>7583</td>\n",
              "      <td>0.0</td>\n",
              "      <td>187.0</td>\n",
              "      <td>360.0</td>\n",
              "      <td>1.0</td>\n",
              "      <td>Urban</td>\n",
              "      <td>Y</td>\n",
              "    </tr>\n",
              "    <tr>\n",
              "      <th>613</th>\n",
              "      <td>LP002990</td>\n",
              "      <td>Female</td>\n",
              "      <td>No</td>\n",
              "      <td>0</td>\n",
              "      <td>Graduate</td>\n",
              "      <td>Yes</td>\n",
              "      <td>4583</td>\n",
              "      <td>0.0</td>\n",
              "      <td>133.0</td>\n",
              "      <td>360.0</td>\n",
              "      <td>0.0</td>\n",
              "      <td>Semiurban</td>\n",
              "      <td>N</td>\n",
              "    </tr>\n",
              "  </tbody>\n",
              "</table>\n",
              "<p>614 rows × 13 columns</p>\n",
              "</div>"
            ],
            "text/plain": [
              "      Loan_ID  Gender Married  ... Credit_History Property_Area Loan_Status\n",
              "0    LP001002    Male      No  ...            1.0         Urban           Y\n",
              "1    LP001003    Male     Yes  ...            1.0         Rural           N\n",
              "2    LP001005    Male     Yes  ...            1.0         Urban           Y\n",
              "3    LP001006    Male     Yes  ...            1.0         Urban           Y\n",
              "4    LP001008    Male      No  ...            1.0         Urban           Y\n",
              "..        ...     ...     ...  ...            ...           ...         ...\n",
              "609  LP002978  Female      No  ...            1.0         Rural           Y\n",
              "610  LP002979    Male     Yes  ...            1.0         Rural           Y\n",
              "611  LP002983    Male     Yes  ...            1.0         Urban           Y\n",
              "612  LP002984    Male     Yes  ...            1.0         Urban           Y\n",
              "613  LP002990  Female      No  ...            0.0     Semiurban           N\n",
              "\n",
              "[614 rows x 13 columns]"
            ]
          },
          "metadata": {
            "tags": []
          },
          "execution_count": 1
        }
      ]
    },
    {
      "cell_type": "markdown",
      "metadata": {
        "id": "sMUBhjVPtdXt"
      },
      "source": [
        "## Task 1\n",
        "**Let's check which variable is categorical and which one is numerical so that you will get a basic idea about the features of the bank dataset.**\n",
        "\n",
        "#### Instructions :\n",
        "\n",
        "- Create dataframe `bank` by passing the `path` of the file\n",
        "\n",
        "\n",
        "- Create the variable `'categorical_var'` and using `'df.select_dtypes(include = 'object')'` check all categorical values.  \n",
        "\n",
        "\n",
        "- print `'categorical_var'`\n",
        "\n",
        "\n",
        "- Create the variable `'numerical_var'` and using `'df.select_dtypes(include = 'number')'` check all categorical values.\n",
        "\n",
        "\n",
        "- print `'numerical_var'`"
      ]
    },
    {
      "cell_type": "code",
      "metadata": {
        "id": "-0j3CjEgtdXt",
        "colab": {
          "base_uri": "https://localhost:8080/"
        },
        "outputId": "a494c346-26c2-4a60-e947-eee88e1bac3f"
      },
      "source": [
        "# Display categorical variable\n",
        "\n",
        "\n",
        "categorical_var=bank.select_dtypes(include='object')\n",
        "\n",
        "print(categorical_var.columns)"
      ],
      "execution_count": null,
      "outputs": [
        {
          "output_type": "stream",
          "text": [
            "Index(['Loan_ID', 'Gender', 'Married', 'Dependents', 'Education',\n",
            "       'Self_Employed', 'Property_Area', 'Loan_Status'],\n",
            "      dtype='object')\n"
          ],
          "name": "stdout"
        }
      ]
    },
    {
      "cell_type": "code",
      "metadata": {
        "id": "qF2SLTcptdXu",
        "colab": {
          "base_uri": "https://localhost:8080/"
        },
        "outputId": "21247e7a-13cc-468d-e424-306be78cbd05"
      },
      "source": [
        "#Code for numerical variable\n",
        "\n",
        "numerical_var=bank.select_dtypes(include='number')\n",
        "\n",
        "print(numerical_var.columns)"
      ],
      "execution_count": null,
      "outputs": [
        {
          "output_type": "stream",
          "text": [
            "Index(['ApplicantIncome', 'CoapplicantIncome', 'LoanAmount',\n",
            "       'Loan_Amount_Term', 'Credit_History'],\n",
            "      dtype='object')\n"
          ],
          "name": "stdout"
        }
      ]
    },
    {
      "cell_type": "markdown",
      "metadata": {
        "id": "rI54uVn5tdXv"
      },
      "source": [
        "## Task 2\n",
        "\n",
        "**Sometimes customers forget to fill in all the details or they don't want to share other details. Because of that, some of the fields in the dataset will have missing values. Now you have to check which columns have missing values and also check the count of missing values each column has. If you get the columns that have missing values, try to fill them.**\n",
        "\n",
        "\n",
        "#### Instructions :\n",
        "\n",
        "- From the dataframe `bank`, drop the column `Loan_ID` to create a new dataframe `banks`\n",
        "\n",
        "- To see the null values, use `\"isnull().sum()\"` function and print it.\n",
        "\n",
        "- Calculate `mode` for the dataframe `banks` and store in `bank_mode`\n",
        "\n",
        "- Fill missing(NaN) values of `banks` with `bank_mode` and store the cleaned dataframe back in `banks`. \n",
        "\n",
        "-  Check if all the missing values `(NaN)` are filled."
      ]
    },
    {
      "cell_type": "code",
      "metadata": {
        "id": "LgY0rDxMtdXv",
        "colab": {
          "base_uri": "https://localhost:8080/"
        },
        "outputId": "33d73ed1-52f5-41e0-ac07-9678cda9355d"
      },
      "source": [
        "# code starts here\n",
        "\n",
        "# load the dataset and drop the Loan_ID\n",
        "banks= bank.drop(columns='Loan_ID')\n",
        "\n",
        "# check  all the missing values filled.\n",
        "print(banks.isnull().sum())\n"
      ],
      "execution_count": null,
      "outputs": [
        {
          "output_type": "stream",
          "text": [
            "Gender               13\n",
            "Married               3\n",
            "Dependents           15\n",
            "Education             0\n",
            "Self_Employed        32\n",
            "ApplicantIncome       0\n",
            "CoapplicantIncome     0\n",
            "LoanAmount           22\n",
            "Loan_Amount_Term     14\n",
            "Credit_History       50\n",
            "Property_Area         0\n",
            "Loan_Status           0\n",
            "dtype: int64\n"
          ],
          "name": "stdout"
        }
      ]
    },
    {
      "cell_type": "code",
      "metadata": {
        "id": "Ab_wLqGCtdXv",
        "colab": {
          "base_uri": "https://localhost:8080/"
        },
        "outputId": "10864cb5-3aa0-44c1-f045-c0569765ba47"
      },
      "source": [
        "# apply mode \n",
        "bank_mode = banks.mode().iloc[0]\n",
        "\n",
        "# Fill the missing values with \n",
        "banks.fillna(bank_mode, inplace=True)\n",
        "\n",
        "# check again all the missing values filled.\n",
        "print(banks.isnull().sum())\n"
      ],
      "execution_count": null,
      "outputs": [
        {
          "output_type": "stream",
          "text": [
            "Gender               0\n",
            "Married              0\n",
            "Dependents           0\n",
            "Education            0\n",
            "Self_Employed        0\n",
            "ApplicantIncome      0\n",
            "CoapplicantIncome    0\n",
            "LoanAmount           0\n",
            "Loan_Amount_Term     0\n",
            "Credit_History       0\n",
            "Property_Area        0\n",
            "Loan_Status          0\n",
            "dtype: int64\n"
          ],
          "name": "stdout"
        }
      ]
    },
    {
      "cell_type": "markdown",
      "metadata": {
        "id": "EZ0YMsqJtdXw"
      },
      "source": [
        "## Task 3\n",
        "\n",
        "**Now let's check the loan amount of an average person based on  `'Gender', 'Married', 'Self_Employed' `.  This will give a basic idea of the average loan amount of a person.**\n",
        "\n",
        "\n",
        "#### Instructions :\n",
        "\n",
        "- We will use previously created dataframe `banks` for this task.\n",
        "- Generate a pivot table with index as `'Gender', 'Married', 'Self_Employed'` and values as `'LoanAmount'`,  using `mean aggregation`\n",
        "\n",
        "\n",
        "- Store the result in a variable called `'avg_loan_amount'`\n",
        "\n",
        "\n"
      ]
    },
    {
      "cell_type": "code",
      "metadata": {
        "id": "o6-82Q0ftdXw",
        "colab": {
          "base_uri": "https://localhost:8080/"
        },
        "outputId": "1cbbebde-1938-4e76-ef25-1eef478579e0"
      },
      "source": [
        "# code starts here\n",
        "\n",
        "# check the avg_loan_amount\n",
        "avg_loan_amount = banks.pivot_table(values=[\"LoanAmount\"], index=[\"Gender\",\"Married\",\"Self_Employed\"], aggfunc=np.mean)\n",
        "\n",
        "\n",
        "print (avg_loan_amount)\n",
        "# code ends here"
      ],
      "execution_count": null,
      "outputs": [
        {
          "output_type": "stream",
          "text": [
            "                              LoanAmount\n",
            "Gender Married Self_Employed            \n",
            "Female No      No             114.768116\n",
            "               Yes            125.272727\n",
            "       Yes     No             133.714286\n",
            "               Yes            282.250000\n",
            "Male   No      No             129.508621\n",
            "               Yes            180.588235\n",
            "       Yes     No             152.608150\n",
            "               Yes            167.420000\n"
          ],
          "name": "stdout"
        }
      ]
    },
    {
      "cell_type": "markdown",
      "metadata": {
        "id": "P1aymwOhtdXw"
      },
      "source": [
        "## Task 4\n",
        "\n",
        "**Now let's check the percentage of loan approved based on a person's employment type.**\n",
        "\n",
        "\n",
        "#### Instructions:\n",
        "\n",
        "- We will use the previously created dataframe `banks` for this task.\n",
        "\n",
        "- Create variable `'loan_approved_se'` and store the count of results where `Self_Employed` == `Yes ` and `Loan_Status` == `Y`.\n",
        "\n",
        "- Create variable `'loan_approved_nse'` and store the count of results where `Self_Employed` == `No ` and `Loan_Status` == `Y`.\n",
        "\n",
        "- `Loan_Status` count is given as `614`.\n",
        "\n",
        "- Calculate the percentage of loan approval for self-employed people and store result in variable `'percentage_se'`. \n",
        "\n",
        "- Calculate the percentage of loan approval for people who are not self-employed and store the result in variable `'percentage_nse'`.\n",
        "\n"
      ]
    },
    {
      "cell_type": "code",
      "metadata": {
        "id": "W-tI7eYZtdXx",
        "colab": {
          "base_uri": "https://localhost:8080/"
        },
        "outputId": "8721a1ef-d4df-4c03-9d54-282c949df9ed"
      },
      "source": [
        "# code for loan aprroved for self employed\n",
        "loan_approved_se = banks.loc[(banks[\"Self_Employed\"]==\"Yes\")  & (banks[\"Loan_Status\"]==\"Y\"), [\"Loan_Status\"]].count()\n",
        "print(loan_approved_se)\n"
      ],
      "execution_count": null,
      "outputs": [
        {
          "output_type": "stream",
          "text": [
            "Loan_Status    56\n",
            "dtype: int64\n"
          ],
          "name": "stdout"
        }
      ]
    },
    {
      "cell_type": "code",
      "metadata": {
        "id": "vzfG19F1tdXx",
        "colab": {
          "base_uri": "https://localhost:8080/"
        },
        "outputId": "0b4502cf-f04c-4973-aab5-8984ec8ee309"
      },
      "source": [
        "# code for loan approved for non self employed\n",
        "loan_approved_nse = banks.loc[(banks[\"Self_Employed\"]==\"No\")  & (banks[\"Loan_Status\"]==\"Y\"), [\"Loan_Status\"]].count()\n",
        "print(loan_approved_nse)\n"
      ],
      "execution_count": null,
      "outputs": [
        {
          "output_type": "stream",
          "text": [
            "Loan_Status    366\n",
            "dtype: int64\n"
          ],
          "name": "stdout"
        }
      ]
    },
    {
      "cell_type": "code",
      "metadata": {
        "id": "l4AwyP77tdXx",
        "colab": {
          "base_uri": "https://localhost:8080/"
        },
        "outputId": "568a181a-2ad0-4523-852d-95f4439523d2"
      },
      "source": [
        "# percentage of loan approved for self employed\n",
        "percentage_se = (loan_approved_se * 100 / 614)\n",
        "percentage_se=percentage_se[0]\n",
        "# print percentage of loan approved for self employed\n",
        "print(percentage_se)\n"
      ],
      "execution_count": null,
      "outputs": [
        {
          "output_type": "stream",
          "text": [
            "9.120521172638437\n"
          ],
          "name": "stdout"
        }
      ]
    },
    {
      "cell_type": "code",
      "metadata": {
        "id": "TfmOh_NItdXx",
        "colab": {
          "base_uri": "https://localhost:8080/"
        },
        "outputId": "f31bb521-eadd-47c5-ed04-d5e76536ebc8"
      },
      "source": [
        "#percentage of loan for non self employed\n",
        "percentage_nse = (loan_approved_nse * 100 / 614)\n",
        "percentage_nse=percentage_nse[0]\n",
        "#print percentage of loan for non self employed\n",
        "print (percentage_nse)\n"
      ],
      "execution_count": null,
      "outputs": [
        {
          "output_type": "stream",
          "text": [
            "59.60912052117264\n"
          ],
          "name": "stdout"
        }
      ]
    },
    {
      "cell_type": "markdown",
      "metadata": {
        "id": "wrnPLyVFtdXy"
      },
      "source": [
        "## Task 5\n",
        "\n",
        "**A government audit is happening real soon! So the company wants to find out those applicants with long loan amount term.**  \n",
        "\n",
        "#### Instructions:\n",
        "\n",
        "- Use `\"apply()\"` function to convert `Loan_Amount_Term`  which is in months to a year and store the result in a variable `'loan_term'`.\n",
        "\n",
        "- Find the number of applicants having loan amount term greater than or equal to 25 years and store them in a variable called `'big_loan_term'`.\n",
        "\n"
      ]
    },
    {
      "cell_type": "code",
      "metadata": {
        "id": "HoaEScx1tdXy",
        "colab": {
          "base_uri": "https://localhost:8080/"
        },
        "outputId": "392a31f9-7582-44e2-bead-aacf81f6b854"
      },
      "source": [
        "# loan amount term \n",
        "\n",
        "loan_term = banks['Loan_Amount_Term'].apply(lambda x: int(x)/12 )\n",
        "\n",
        "big_loan_term=len(loan_term[loan_term>=25])\n",
        "\n",
        "print(big_loan_term)\n",
        "\n"
      ],
      "execution_count": null,
      "outputs": [
        {
          "output_type": "stream",
          "text": [
            "554\n"
          ],
          "name": "stdout"
        }
      ]
    },
    {
      "cell_type": "markdown",
      "metadata": {
        "id": "QzpFGldotdXz"
      },
      "source": [
        "## Task 6\n",
        "\n",
        "**Now let's check the average income of an applicant and the average loan given to a person based on their income.**\n",
        "\n",
        "\n",
        "#### Instructions :\n",
        "\n",
        "- Groupby the `'banks'` dataframe by `Loan_Status` and store the result in a variable called `'loan_groupby'`\n",
        "\n",
        "- Subset `'loan_groupby'` to include only  `['ApplicantIncome', 'Credit_History']` and store the subsetted dataframe back in `'loan_groupby'`\n",
        "\n",
        "- Then find the `mean` of `'loan_groupby'` and store the result in a new variable `'mean_values'`\n",
        "\n",
        "\n"
      ]
    },
    {
      "cell_type": "code",
      "metadata": {
        "id": "jks21DmltdXz",
        "colab": {
          "base_uri": "https://localhost:8080/"
        },
        "outputId": "b590431a-1275-476b-e907-6af2283a52a6"
      },
      "source": [
        "# code starts here\n",
        "\n",
        "columns_to_show = ['ApplicantIncome', 'Credit_History']\n",
        " \n",
        "loan_groupby=banks.groupby(['Loan_Status'])\n",
        "\n",
        "loan_groupby=loan_groupby[columns_to_show]\n",
        "\n",
        "# Check the mean value \n",
        "mean_values=loan_groupby.agg([np.mean])\n",
        "\n",
        "print(mean_values)\n",
        "\n",
        "# code ends here"
      ],
      "execution_count": null,
      "outputs": [
        {
          "output_type": "stream",
          "text": [
            "            ApplicantIncome Credit_History\n",
            "                       mean           mean\n",
            "Loan_Status                               \n",
            "N               5446.078125       0.572917\n",
            "Y               5384.068720       0.983412\n"
          ],
          "name": "stdout"
        }
      ]
    }
  ]
}